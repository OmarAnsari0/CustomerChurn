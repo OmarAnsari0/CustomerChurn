{
 "cells": [
  {
   "cell_type": "markdown",
   "id": "4b3a97ee",
   "metadata": {},
   "source": [
    "# Customer Churn Prediction"
   ]
  },
  {
   "cell_type": "markdown",
   "id": "d163eb1f",
   "metadata": {},
   "source": [
    "#### Importing require libraries"
   ]
  },
  {
   "cell_type": "code",
   "execution_count": 1,
   "id": "1ed60563",
   "metadata": {},
   "outputs": [],
   "source": [
    "import numpy as np\n",
    "import pandas as pd\n",
    "import sklearn\n",
    "import matplotlib.pyplot as plt\n",
    "import seaborn as sns\n",
    "from sklearn.preprocessing import StandardScaler\n",
    "from imblearn.over_sampling import RandomOverSampler\n",
    "\n",
    "%matplotlib inline\n",
    "import warnings\n",
    "warnings.filterwarnings('ignore')\n",
    "from sklearn.neighbors import KNeighborsClassifier\n",
    "import matplotlib.patches as mpatches\n",
    "\n",
    "from sklearn.model_selection import train_test_split\n",
    "from sklearn.preprocessing import StandardScaler\n",
    "from sklearn.metrics import precision_recall_fscore_support\n",
    "from sklearn.linear_model import LogisticRegression\n",
    "from sklearn.model_selection import train_test_split\n",
    "from sklearn.linear_model import LogisticRegression\n",
    "from sklearn.metrics import confusion_matrix,accuracy_score,classification_report\n",
    "from sklearn.metrics import f1_score\n"
   ]
  },
  {
   "cell_type": "markdown",
   "id": "eea507bd",
   "metadata": {},
   "source": [
    "#### Reading the dataset"
   ]
  },
  {
   "cell_type": "code",
   "execution_count": 17,
   "id": "2fa7b3e3",
   "metadata": {},
   "outputs": [
    {
     "data": {
      "text/html": [
       "<div>\n",
       "<style scoped>\n",
       "    .dataframe tbody tr th:only-of-type {\n",
       "        vertical-align: middle;\n",
       "    }\n",
       "\n",
       "    .dataframe tbody tr th {\n",
       "        vertical-align: top;\n",
       "    }\n",
       "\n",
       "    .dataframe thead th {\n",
       "        text-align: right;\n",
       "    }\n",
       "</style>\n",
       "<table border=\"1\" class=\"dataframe\">\n",
       "  <thead>\n",
       "    <tr style=\"text-align: right;\">\n",
       "      <th></th>\n",
       "      <th>customer_id</th>\n",
       "      <th>gender</th>\n",
       "      <th>location</th>\n",
       "      <th>partner</th>\n",
       "      <th>dependents</th>\n",
       "      <th>senior</th>\n",
       "      <th>Tenure</th>\n",
       "      <th>monthly_cost</th>\n",
       "      <th>package</th>\n",
       "      <th>survey</th>\n",
       "      <th>Class</th>\n",
       "    </tr>\n",
       "  </thead>\n",
       "  <tbody>\n",
       "    <tr>\n",
       "      <th>0</th>\n",
       "      <td>G1606</td>\n",
       "      <td>Female</td>\n",
       "      <td>Lancashire</td>\n",
       "      <td>0</td>\n",
       "      <td>1</td>\n",
       "      <td>0</td>\n",
       "      <td>20.0</td>\n",
       "      <td>NaN</td>\n",
       "      <td>2</td>\n",
       "      <td>0</td>\n",
       "      <td>Churn=No</td>\n",
       "    </tr>\n",
       "    <tr>\n",
       "      <th>1</th>\n",
       "      <td>F8889</td>\n",
       "      <td>Female</td>\n",
       "      <td>Essex</td>\n",
       "      <td>0</td>\n",
       "      <td>1</td>\n",
       "      <td>0</td>\n",
       "      <td>4.0</td>\n",
       "      <td>NaN</td>\n",
       "      <td>1</td>\n",
       "      <td>5</td>\n",
       "      <td>Churn=No</td>\n",
       "    </tr>\n",
       "    <tr>\n",
       "      <th>2</th>\n",
       "      <td>C5068</td>\n",
       "      <td>Female</td>\n",
       "      <td>Essex</td>\n",
       "      <td>0</td>\n",
       "      <td>Unknown</td>\n",
       "      <td>1</td>\n",
       "      <td>9.0</td>\n",
       "      <td>NaN</td>\n",
       "      <td>2</td>\n",
       "      <td>0</td>\n",
       "      <td>Churn=No</td>\n",
       "    </tr>\n",
       "    <tr>\n",
       "      <th>3</th>\n",
       "      <td>G9820</td>\n",
       "      <td>Male</td>\n",
       "      <td>West Yorkshire</td>\n",
       "      <td>1</td>\n",
       "      <td>1</td>\n",
       "      <td>1</td>\n",
       "      <td>9.0</td>\n",
       "      <td>NaN</td>\n",
       "      <td>4</td>\n",
       "      <td>9</td>\n",
       "      <td>Churn=No</td>\n",
       "    </tr>\n",
       "    <tr>\n",
       "      <th>4</th>\n",
       "      <td>H7261</td>\n",
       "      <td>Male</td>\n",
       "      <td>Greater Manchester</td>\n",
       "      <td>0</td>\n",
       "      <td>1</td>\n",
       "      <td>0</td>\n",
       "      <td>6.0</td>\n",
       "      <td>NaN</td>\n",
       "      <td>2</td>\n",
       "      <td>5</td>\n",
       "      <td>Churn=No</td>\n",
       "    </tr>\n",
       "  </tbody>\n",
       "</table>\n",
       "</div>"
      ],
      "text/plain": [
       "  customer_id  gender            location  partner dependents  senior  Tenure  \\\n",
       "0       G1606  Female          Lancashire        0          1       0    20.0   \n",
       "1       F8889  Female               Essex        0          1       0     4.0   \n",
       "2       C5068  Female               Essex        0    Unknown       1     9.0   \n",
       "3       G9820    Male      West Yorkshire        1          1       1     9.0   \n",
       "4       H7261    Male  Greater Manchester        0          1       0     6.0   \n",
       "\n",
       "  monthly_cost  package survey     Class  \n",
       "0          NaN        2      0  Churn=No  \n",
       "1          NaN        1      5  Churn=No  \n",
       "2          NaN        2      0  Churn=No  \n",
       "3          NaN        4      9  Churn=No  \n",
       "4          NaN        2      5  Churn=No  "
      ]
     },
     "execution_count": 17,
     "metadata": {},
     "output_type": "execute_result"
    }
   ],
   "source": [
    "churn_data = pd.read_csv('Group 1.csv').drop(['Unnamed: 0'],axis =1)\n",
    "churn_data = churn_data.drop_duplicates(subset = ['customer_id'])  # Dropping duplictes\n",
    "churn_data.head()"
   ]
  },
  {
   "cell_type": "code",
   "execution_count": 18,
   "id": "e6a3c889",
   "metadata": {},
   "outputs": [
    {
     "name": "stdout",
     "output_type": "stream",
     "text": [
      "<class 'pandas.core.frame.DataFrame'>\n",
      "Int64Index: 6770 entries, 0 to 7349\n",
      "Data columns (total 11 columns):\n",
      " #   Column        Non-Null Count  Dtype  \n",
      "---  ------        --------------  -----  \n",
      " 0   customer_id   6770 non-null   object \n",
      " 1   gender        6770 non-null   object \n",
      " 2   location      6770 non-null   object \n",
      " 3   partner       6770 non-null   int64  \n",
      " 4   dependents    6770 non-null   object \n",
      " 5   senior        6770 non-null   int64  \n",
      " 6   Tenure        6770 non-null   float64\n",
      " 7   monthly_cost  75 non-null     object \n",
      " 8   package       6770 non-null   int64  \n",
      " 9   survey        6770 non-null   object \n",
      " 10  Class         6715 non-null   object \n",
      "dtypes: float64(1), int64(3), object(7)\n",
      "memory usage: 634.7+ KB\n"
     ]
    }
   ],
   "source": [
    "#Exploring datatypes and null values of each column\n",
    "churn_data.info()"
   ]
  },
  {
   "cell_type": "markdown",
   "id": "d2ecb718",
   "metadata": {},
   "source": [
    "#### Data Cleaning "
   ]
  },
  {
   "cell_type": "code",
   "execution_count": 19,
   "id": "1c573f95",
   "metadata": {},
   "outputs": [],
   "source": [
    "#drop rows which do not have class label\n",
    "churn_data = churn_data.dropna(subset = ['Class'])"
   ]
  },
  {
   "cell_type": "code",
   "execution_count": 20,
   "id": "e6d10a32",
   "metadata": {},
   "outputs": [
    {
     "data": {
      "text/plain": [
       "Churn=No     4787\n",
       "Churn=Yes    1909\n",
       "Y$e$s$$        19\n",
       "Name: Class, dtype: int64"
      ]
     },
     "execution_count": 20,
     "metadata": {},
     "output_type": "execute_result"
    }
   ],
   "source": [
    "churn_data['Class'].value_counts()"
   ]
  },
  {
   "cell_type": "code",
   "execution_count": 21,
   "id": "8085105b",
   "metadata": {},
   "outputs": [
    {
     "data": {
      "text/plain": [
       "0    4787\n",
       "1    1928\n",
       "Name: Class, dtype: int64"
      ]
     },
     "execution_count": 21,
     "metadata": {},
     "output_type": "execute_result"
    }
   ],
   "source": [
    "# Cleaning the Class column and converting into binary format\n",
    "churn_data['Class'] = np.where(churn_data['Class'] == 'Churn=Yes',1,np.where(churn_data['Class'] == 'Y$e$s$$',1,0))\n",
    "churn_data['Class'].value_counts()"
   ]
  },
  {
   "cell_type": "code",
   "execution_count": 23,
   "id": "0c231b31",
   "metadata": {},
   "outputs": [],
   "source": [
    "#Replacing the values in the columns monthly_cost, discount_col, updated_monthly_cost.\n",
    "\n",
    "churn_data['monthly_cost'] = np.where(churn_data['package'] == 1,26,np.where(churn_data['package'] == 2,34,\n",
    "                                                                 np.where(churn_data['package'] == 3,40,\n",
    "                                                                          np.where(churn_data['package'] == 4,46,0))))\n",
    "\n",
    "\n",
    "churn_data['discount_col'] = np.where(churn_data['Tenure'] <=25, churn_data['monthly_cost']*((churn_data['Tenure']*2)/100),\n",
    "                            churn_data['monthly_cost']*(0.50))\n",
    "\n",
    "churn_data['updated_monthly_cost'] = churn_data['monthly_cost']-churn_data['discount_col']\n"
   ]
  },
  {
   "cell_type": "code",
   "execution_count": 24,
   "id": "1b1e8323",
   "metadata": {},
   "outputs": [],
   "source": [
    "churn_data = churn_data.drop(['discount_col','monthly_cost'],axis = 1)"
   ]
  },
  {
   "cell_type": "code",
   "execution_count": 25,
   "id": "2db5af57",
   "metadata": {},
   "outputs": [
    {
     "data": {
      "text/html": [
       "<div>\n",
       "<style scoped>\n",
       "    .dataframe tbody tr th:only-of-type {\n",
       "        vertical-align: middle;\n",
       "    }\n",
       "\n",
       "    .dataframe tbody tr th {\n",
       "        vertical-align: top;\n",
       "    }\n",
       "\n",
       "    .dataframe thead th {\n",
       "        text-align: right;\n",
       "    }\n",
       "</style>\n",
       "<table border=\"1\" class=\"dataframe\">\n",
       "  <thead>\n",
       "    <tr style=\"text-align: right;\">\n",
       "      <th></th>\n",
       "      <th>customer_id</th>\n",
       "      <th>gender</th>\n",
       "      <th>location</th>\n",
       "      <th>partner</th>\n",
       "      <th>dependents</th>\n",
       "      <th>senior</th>\n",
       "      <th>Tenure</th>\n",
       "      <th>package</th>\n",
       "      <th>survey</th>\n",
       "      <th>Class</th>\n",
       "      <th>updated_monthly_cost</th>\n",
       "    </tr>\n",
       "  </thead>\n",
       "  <tbody>\n",
       "    <tr>\n",
       "      <th>0</th>\n",
       "      <td>G1606</td>\n",
       "      <td>Female</td>\n",
       "      <td>Lancashire</td>\n",
       "      <td>0</td>\n",
       "      <td>1</td>\n",
       "      <td>0</td>\n",
       "      <td>20.0</td>\n",
       "      <td>2</td>\n",
       "      <td>0</td>\n",
       "      <td>0</td>\n",
       "      <td>20.40</td>\n",
       "    </tr>\n",
       "    <tr>\n",
       "      <th>1</th>\n",
       "      <td>F8889</td>\n",
       "      <td>Female</td>\n",
       "      <td>Essex</td>\n",
       "      <td>0</td>\n",
       "      <td>1</td>\n",
       "      <td>0</td>\n",
       "      <td>4.0</td>\n",
       "      <td>1</td>\n",
       "      <td>5</td>\n",
       "      <td>0</td>\n",
       "      <td>23.92</td>\n",
       "    </tr>\n",
       "    <tr>\n",
       "      <th>2</th>\n",
       "      <td>C5068</td>\n",
       "      <td>Female</td>\n",
       "      <td>Essex</td>\n",
       "      <td>0</td>\n",
       "      <td>Unknown</td>\n",
       "      <td>1</td>\n",
       "      <td>9.0</td>\n",
       "      <td>2</td>\n",
       "      <td>0</td>\n",
       "      <td>0</td>\n",
       "      <td>27.88</td>\n",
       "    </tr>\n",
       "    <tr>\n",
       "      <th>3</th>\n",
       "      <td>G9820</td>\n",
       "      <td>Male</td>\n",
       "      <td>West Yorkshire</td>\n",
       "      <td>1</td>\n",
       "      <td>1</td>\n",
       "      <td>1</td>\n",
       "      <td>9.0</td>\n",
       "      <td>4</td>\n",
       "      <td>9</td>\n",
       "      <td>0</td>\n",
       "      <td>37.72</td>\n",
       "    </tr>\n",
       "    <tr>\n",
       "      <th>4</th>\n",
       "      <td>H7261</td>\n",
       "      <td>Male</td>\n",
       "      <td>Greater Manchester</td>\n",
       "      <td>0</td>\n",
       "      <td>1</td>\n",
       "      <td>0</td>\n",
       "      <td>6.0</td>\n",
       "      <td>2</td>\n",
       "      <td>5</td>\n",
       "      <td>0</td>\n",
       "      <td>29.92</td>\n",
       "    </tr>\n",
       "  </tbody>\n",
       "</table>\n",
       "</div>"
      ],
      "text/plain": [
       "  customer_id  gender            location  partner dependents  senior  Tenure  \\\n",
       "0       G1606  Female          Lancashire        0          1       0    20.0   \n",
       "1       F8889  Female               Essex        0          1       0     4.0   \n",
       "2       C5068  Female               Essex        0    Unknown       1     9.0   \n",
       "3       G9820    Male      West Yorkshire        1          1       1     9.0   \n",
       "4       H7261    Male  Greater Manchester        0          1       0     6.0   \n",
       "\n",
       "   package survey  Class  updated_monthly_cost  \n",
       "0        2      0      0                 20.40  \n",
       "1        1      5      0                 23.92  \n",
       "2        2      0      0                 27.88  \n",
       "3        4      9      0                 37.72  \n",
       "4        2      5      0                 29.92  "
      ]
     },
     "execution_count": 25,
     "metadata": {},
     "output_type": "execute_result"
    }
   ],
   "source": [
    "churn_data.head()"
   ]
  },
  {
   "cell_type": "code",
   "execution_count": 26,
   "id": "7baef5fd",
   "metadata": {},
   "outputs": [
    {
     "data": {
      "text/plain": [
       "0    3310\n",
       "1    3282\n",
       "Name: gender, dtype: int64"
      ]
     },
     "execution_count": 26,
     "metadata": {},
     "output_type": "execute_result"
    }
   ],
   "source": [
    "churn_data['gender'] = churn_data['gender'].replace({'Male':1,'Female':0}) #Replacing Male with 1 and female with 0\n",
    "churn_data['gender'].value_counts()"
   ]
  },
  {
   "cell_type": "code",
   "execution_count": 27,
   "id": "b1f87173",
   "metadata": {},
   "outputs": [],
   "source": [
    "# Treating null values in survey column\n",
    "churn_data['survey'] = churn_data['survey'].replace('No reply',5).astype(str).astype(int)"
   ]
  },
  {
   "cell_type": "code",
   "execution_count": 28,
   "id": "88cc51ef",
   "metadata": {},
   "outputs": [],
   "source": [
    "# Removing records with -ve values in tenure\n",
    "churn_data = churn_data[churn_data['Tenure'] >= 0]"
   ]
  },
  {
   "cell_type": "code",
   "execution_count": 29,
   "id": "1c403ac4",
   "metadata": {},
   "outputs": [
    {
     "data": {
      "text/plain": [
       "1          3177\n",
       "Unknown    1973\n",
       "0          1442\n",
       "Name: dependents, dtype: int64"
      ]
     },
     "execution_count": 29,
     "metadata": {},
     "output_type": "execute_result"
    }
   ],
   "source": [
    "churn_data['dependents'].value_counts()"
   ]
  },
  {
   "cell_type": "markdown",
   "id": "f3ce05b3",
   "metadata": {},
   "source": [
    "#### Splitting the Dataset for train and test"
   ]
  },
  {
   "cell_type": "code",
   "execution_count": 30,
   "id": "542d4592",
   "metadata": {},
   "outputs": [],
   "source": [
    "# Filter rows where 'dependents' is known and convert to binary (1 or 0)\n",
    "churn_data_impu_data = churn_data[churn_data['dependents'] != 'Unknown']\n",
    "churn_data_impu_data['dependents'] = np.where(churn_data_impu_data['dependents'] == '1', 1, 0)\n",
    "\n",
    "# Drop unnecessary columns\n",
    "churn_data_impu_data = churn_data_impu_data.drop(['customer_id', 'location'], axis=1)\n",
    "\n",
    "# Separate rows where 'dependents' is 'Unknown' for prediction\n",
    "churn_data_impu_data_test = churn_data[churn_data['dependents'] == 'Unknown'].drop(['dependents', 'customer_id', 'location'], axis=1)\n",
    "\n",
    "# Split known data for model training and validation\n",
    "X = churn_data_impu_data.drop(['dependents'], axis=1)\n",
    "X_train, X_test, y_train, y_test = train_test_split(X, churn_data_impu_data['dependents'], test_size=0.35)\n",
    "\n",
    "# Train a logistic regression model and predict 'dependents' for 'Unknown' rows\n",
    "log_reg = LogisticRegression(random_state=0).fit(X_train, y_train)\n",
    "churn_data_impu_data_test['y_pred'] = log_reg.predict(churn_data_impu_data_test[['gender', 'partner', 'senior', 'Tenure', 'updated_monthly_cost', 'package', 'survey', 'Class']])\n",
    "\n",
    "# Merge predicted 'dependents' back into the original data\n",
    "churn_data_impu_data_test_updated_data = pd.merge(churn_data, churn_data_impu_data_test[['y_pred']], how='left', left_index=True, right_index=True)\n",
    "\n",
    "# Update 'dependents' for 'Unknown' rows with predicted values and drop 'y_pred'\n",
    "churn_data_impu_data_test_updated_data['dependents'] = np.where(churn_data_impu_data_test_updated_data['dependents'] == 'Unknown',\n",
    "    round(churn_data_impu_data_test_updated_data['y_pred'], 0), churn_data_impu_data_test_updated_data['dependents']).astype(float)\n",
    "churn_data_impu_data_test_updated_data = churn_data_impu_data_test_updated_data.drop('y_pred', axis=1)\n"
   ]
  },
  {
   "cell_type": "code",
   "execution_count": 31,
   "id": "9fd67368",
   "metadata": {},
   "outputs": [],
   "source": [
    "churn_data_impu_data_test_updated_data['dependents'].value_counts()\n",
    "data = churn_data_impu_data_test_updated_data.copy()"
   ]
  },
  {
   "cell_type": "markdown",
   "id": "a7f05690",
   "metadata": {},
   "source": [
    "# Exploratory data analysis"
   ]
  },
  {
   "cell_type": "code",
   "execution_count": 32,
   "id": "2c4fc736",
   "metadata": {},
   "outputs": [],
   "source": [
    "data.head()\n",
    "data['Class'] = np.where(data['Class'] == 0,\"Churn=No\",'Churn=Yes')"
   ]
  },
  {
   "cell_type": "code",
   "execution_count": 33,
   "id": "d438cb08",
   "metadata": {},
   "outputs": [
    {
     "data": {
      "text/html": [
       "<div>\n",
       "<style scoped>\n",
       "    .dataframe tbody tr th:only-of-type {\n",
       "        vertical-align: middle;\n",
       "    }\n",
       "\n",
       "    .dataframe tbody tr th {\n",
       "        vertical-align: top;\n",
       "    }\n",
       "\n",
       "    .dataframe thead th {\n",
       "        text-align: right;\n",
       "    }\n",
       "</style>\n",
       "<table border=\"1\" class=\"dataframe\">\n",
       "  <thead>\n",
       "    <tr style=\"text-align: right;\">\n",
       "      <th></th>\n",
       "      <th>gender</th>\n",
       "      <th>partner</th>\n",
       "      <th>dependents</th>\n",
       "      <th>senior</th>\n",
       "      <th>Tenure</th>\n",
       "      <th>package</th>\n",
       "      <th>survey</th>\n",
       "      <th>updated_monthly_cost</th>\n",
       "    </tr>\n",
       "  </thead>\n",
       "  <tbody>\n",
       "    <tr>\n",
       "      <th>count</th>\n",
       "      <td>6592.000000</td>\n",
       "      <td>6592.000000</td>\n",
       "      <td>6592.000000</td>\n",
       "      <td>6592.000000</td>\n",
       "      <td>6592.000000</td>\n",
       "      <td>6592.000000</td>\n",
       "      <td>6592.000000</td>\n",
       "      <td>6592.000000</td>\n",
       "    </tr>\n",
       "    <tr>\n",
       "      <th>mean</th>\n",
       "      <td>0.497876</td>\n",
       "      <td>0.548089</td>\n",
       "      <td>0.481948</td>\n",
       "      <td>0.167779</td>\n",
       "      <td>8.886377</td>\n",
       "      <td>2.376820</td>\n",
       "      <td>4.725728</td>\n",
       "      <td>29.206572</td>\n",
       "    </tr>\n",
       "    <tr>\n",
       "      <th>std</th>\n",
       "      <td>0.500033</td>\n",
       "      <td>0.497720</td>\n",
       "      <td>0.499712</td>\n",
       "      <td>0.373698</td>\n",
       "      <td>6.178082</td>\n",
       "      <td>1.164251</td>\n",
       "      <td>2.287423</td>\n",
       "      <td>7.281482</td>\n",
       "    </tr>\n",
       "    <tr>\n",
       "      <th>min</th>\n",
       "      <td>0.000000</td>\n",
       "      <td>0.000000</td>\n",
       "      <td>0.000000</td>\n",
       "      <td>0.000000</td>\n",
       "      <td>0.000000</td>\n",
       "      <td>1.000000</td>\n",
       "      <td>0.000000</td>\n",
       "      <td>13.000000</td>\n",
       "    </tr>\n",
       "    <tr>\n",
       "      <th>25%</th>\n",
       "      <td>0.000000</td>\n",
       "      <td>0.000000</td>\n",
       "      <td>0.000000</td>\n",
       "      <td>0.000000</td>\n",
       "      <td>3.000000</td>\n",
       "      <td>1.000000</td>\n",
       "      <td>3.000000</td>\n",
       "      <td>23.920000</td>\n",
       "    </tr>\n",
       "    <tr>\n",
       "      <th>50%</th>\n",
       "      <td>0.000000</td>\n",
       "      <td>1.000000</td>\n",
       "      <td>0.000000</td>\n",
       "      <td>0.000000</td>\n",
       "      <td>9.000000</td>\n",
       "      <td>2.000000</td>\n",
       "      <td>5.000000</td>\n",
       "      <td>28.560000</td>\n",
       "    </tr>\n",
       "    <tr>\n",
       "      <th>75%</th>\n",
       "      <td>1.000000</td>\n",
       "      <td>1.000000</td>\n",
       "      <td>1.000000</td>\n",
       "      <td>0.000000</td>\n",
       "      <td>13.000000</td>\n",
       "      <td>4.000000</td>\n",
       "      <td>6.000000</td>\n",
       "      <td>34.000000</td>\n",
       "    </tr>\n",
       "    <tr>\n",
       "      <th>max</th>\n",
       "      <td>1.000000</td>\n",
       "      <td>1.000000</td>\n",
       "      <td>1.000000</td>\n",
       "      <td>1.000000</td>\n",
       "      <td>30.000000</td>\n",
       "      <td>4.000000</td>\n",
       "      <td>10.000000</td>\n",
       "      <td>46.000000</td>\n",
       "    </tr>\n",
       "  </tbody>\n",
       "</table>\n",
       "</div>"
      ],
      "text/plain": [
       "            gender      partner   dependents       senior       Tenure  \\\n",
       "count  6592.000000  6592.000000  6592.000000  6592.000000  6592.000000   \n",
       "mean      0.497876     0.548089     0.481948     0.167779     8.886377   \n",
       "std       0.500033     0.497720     0.499712     0.373698     6.178082   \n",
       "min       0.000000     0.000000     0.000000     0.000000     0.000000   \n",
       "25%       0.000000     0.000000     0.000000     0.000000     3.000000   \n",
       "50%       0.000000     1.000000     0.000000     0.000000     9.000000   \n",
       "75%       1.000000     1.000000     1.000000     0.000000    13.000000   \n",
       "max       1.000000     1.000000     1.000000     1.000000    30.000000   \n",
       "\n",
       "           package       survey  updated_monthly_cost  \n",
       "count  6592.000000  6592.000000           6592.000000  \n",
       "mean      2.376820     4.725728             29.206572  \n",
       "std       1.164251     2.287423              7.281482  \n",
       "min       1.000000     0.000000             13.000000  \n",
       "25%       1.000000     3.000000             23.920000  \n",
       "50%       2.000000     5.000000             28.560000  \n",
       "75%       4.000000     6.000000             34.000000  \n",
       "max       4.000000    10.000000             46.000000  "
      ]
     },
     "execution_count": 33,
     "metadata": {},
     "output_type": "execute_result"
    }
   ],
   "source": [
    "data.describe()"
   ]
  },
  {
   "cell_type": "code",
   "execution_count": 34,
   "id": "d108699b",
   "metadata": {},
   "outputs": [],
   "source": [
    "numeric_col = ['Tenure','survey','updated_monthly_cost','package']"
   ]
  },
  {
   "cell_type": "code",
   "execution_count": 35,
   "id": "95488254",
   "metadata": {},
   "outputs": [],
   "source": [
    "cat_col = ['gender','partner','dependents','senior']"
   ]
  },
  {
   "cell_type": "markdown",
   "id": "4b227aa9",
   "metadata": {},
   "source": [
    "#### Customer churn plot based on the type package"
   ]
  },
  {
   "cell_type": "code",
   "execution_count": 23,
   "id": "a347d14c",
   "metadata": {},
   "outputs": [
    {
     "data": {
      "image/png": "[encoded data removed]",
      "text/plain": [
       "<Figure size 360x360 with 1 Axes>"
      ]
     },
     "metadata": {
      "needs_background": "light"
     },
     "output_type": "display_data"
    }
   ],
   "source": [
    "plt.figure(figsize=(5,5))\n",
    "sns.kdeplot(data = data, x= \"package\", hue = \"Class\",palette ='Purples',shade = True)\n",
    "plt.show()"
   ]
  },
  {
   "cell_type": "markdown",
   "id": "654bf5ef",
   "metadata": {},
   "source": [
    "#### Customer churn plot based on the Survey"
   ]
  },
  {
   "cell_type": "code",
   "execution_count": 24,
   "id": "707c9914",
   "metadata": {},
   "outputs": [
    {
     "data": {
      "text/plain": [
       "<AxesSubplot:xlabel='survey', ylabel='count'>"
      ]
     },
     "execution_count": 24,
     "metadata": {},
     "output_type": "execute_result"
    },
    {
     "data": {
      "image/png": "[encoded data removed]",
      "text/plain": [
       "<Figure size 720x360 with 1 Axes>"
      ]
     },
     "metadata": {
      "needs_background": "light"
     },
     "output_type": "display_data"
    }
   ],
   "source": [
    "plt.figure(figsize=(10,5))\n",
    "sns.countplot(data=data, x='survey',hue = \"Class\",palette ='Purples')\n"
   ]
  },
  {
   "cell_type": "markdown",
   "id": "3fe1b29d",
   "metadata": {},
   "source": [
    "#### Customer churn plot based on the monthly_cost"
   ]
  },
  {
   "cell_type": "code",
   "execution_count": 25,
   "id": "df01e7e2",
   "metadata": {},
   "outputs": [
    {
     "data": {
      "text/plain": [
       "<AxesSubplot:xlabel='updated_monthly_cost', ylabel='Count'>"
      ]
     },
     "execution_count": 25,
     "metadata": {},
     "output_type": "execute_result"
    },
    {
     "data": {
      "image/png": "[encoded data removed]",
      "text/plain": [
       "<Figure size 720x360 with 1 Axes>"
      ]
     },
     "metadata": {
      "needs_background": "light"
     },
     "output_type": "display_data"
    }
   ],
   "source": [
    "plt.figure(figsize=(10,5))\n",
    "sns.histplot(data=data, x='updated_monthly_cost',hue = \"Class\",palette ='PuBuGn')\n"
   ]
  },
  {
   "cell_type": "markdown",
   "id": "990ae17c",
   "metadata": {},
   "source": [
    "#### Customer churn plot based on the tenure "
   ]
  },
  {
   "cell_type": "code",
   "execution_count": 42,
   "id": "cf6bc4bd",
   "metadata": {},
   "outputs": [
    {
     "data": {
      "text/plain": [
       "<AxesSubplot:xlabel='Tenure', ylabel='Density'>"
      ]
     },
     "execution_count": 42,
     "metadata": {},
     "output_type": "execute_result"
    },
    {
     "data": {
      "image/png": "[encoded data removed]",
      "text/plain": [
       "<Figure size 720x360 with 1 Axes>"
      ]
     },
     "metadata": {
      "needs_background": "light"
     },
     "output_type": "display_data"
    }
   ],
   "source": [
    "plt.figure(figsize=(10,5))\n",
    "sns.kdeplot(data=data, x='Tenure',hue = \"Class\",palette ='PuBuGn',shade=True)"
   ]
  },
  {
   "cell_type": "markdown",
   "id": "f39b53b3",
   "metadata": {},
   "source": [
    "####  Customer churn plot based on the users gender"
   ]
  },
  {
   "cell_type": "code",
   "execution_count": 27,
   "id": "af73ddd3",
   "metadata": {},
   "outputs": [
    {
     "data": {
      "image/png": "[encoded data removed]",
      "text/plain": [
       "<Figure size 576x360 with 1 Axes>"
      ]
     },
     "metadata": {
      "needs_background": "light"
     },
     "output_type": "display_data"
    }
   ],
   "source": [
    "gender_col = data.groupby(['gender', 'Class']).size().unstack()\n",
    "gender_col = gender_col.T / gender_col.T.sum()  \n",
    "fig = gender_col.T.plot(kind='bar', stacked=True, rot=0, color=['#ADD8E6', '#ABABAB'], figsize=(8,5))\n",
    "\n",
    "for patch in fig.patches:\n",
    "    width, height = patch.get_width(), patch.get_height()\n",
    "    x, y = patch.get_xy()\n",
    "    # value, (x, y)\n",
    "    fig.annotate('{}%'.format(round(height * 100)), (x+0.3*width, y+0.3*height), color='white', weight='bold')"
   ]
  },
  {
   "cell_type": "markdown",
   "id": "bb3d9033",
   "metadata": {},
   "source": [
    "#### Customer churn plot when the user has dependents"
   ]
  },
  {
   "cell_type": "code",
   "execution_count": 28,
   "id": "df74c3e0",
   "metadata": {},
   "outputs": [
    {
     "data": {
      "image/png": "[encoded data removed]",
      "text/plain": [
       "<Figure size 576x360 with 1 Axes>"
      ]
     },
     "metadata": {
      "needs_background": "light"
     },
     "output_type": "display_data"
    }
   ],
   "source": [
    "gender_col = data.groupby(['dependents', 'Class']).size().unstack()\n",
    "gender_col = gender_col.T / gender_col.T.sum()  \n",
    "fig = gender_col.T.plot(kind='bar', stacked=True, rot=0, color=['#ADD8E6', '#ABABAB'], figsize=(8,5))\n",
    "\n",
    "for patch in fig.patches:\n",
    "    width, height = patch.get_width(), patch.get_height()\n",
    "    x, y = patch.get_xy()\n",
    "    # value, (x, y)\n",
    "    fig.annotate('{}%'.format(round(height * 100)), (x+0.3*width, y+0.3*height), color='white', weight='bold')"
   ]
  },
  {
   "cell_type": "markdown",
   "id": "c86005ca",
   "metadata": {},
   "source": [
    "#### Customer churn plot when the user is a senior citizen"
   ]
  },
  {
   "cell_type": "code",
   "execution_count": 29,
   "id": "003afa4d",
   "metadata": {},
   "outputs": [
    {
     "data": {
      "image/png": "[encoded data removed]",
      "text/plain": [
       "<Figure size 576x360 with 1 Axes>"
      ]
     },
     "metadata": {
      "needs_background": "light"
     },
     "output_type": "display_data"
    }
   ],
   "source": [
    "gender_col = data.groupby(['senior', 'Class']).size().unstack()\n",
    "gender_col = gender_col.T / gender_col.T.sum()  \n",
    "fig = gender_col.T.plot(kind='bar', rot=0, color=['#ADD8E6', '#ABABAB'], figsize=(8,5))\n",
    "\n",
    "for patch in fig.patches:\n",
    "    width, height = patch.get_width(), patch.get_height()\n",
    "    x, y = patch.get_xy()\n",
    "    fig.annotate('{}%'.format(round(height * 100)), (x+0.3*width, y+0.3*height), color='black', weight='bold')"
   ]
  },
  {
   "cell_type": "markdown",
   "id": "a5a29955",
   "metadata": {},
   "source": [
    "#### Customer churn plot when the user has a partner"
   ]
  },
  {
   "cell_type": "code",
   "execution_count": 30,
   "id": "f378acc4",
   "metadata": {},
   "outputs": [
    {
     "data": {
      "image/png": "[encoded data removed]",
      "text/plain": [
       "<Figure size 576x360 with 1 Axes>"
      ]
     },
     "metadata": {
      "needs_background": "light"
     },
     "output_type": "display_data"
    }
   ],
   "source": [
    "\n",
    "gender_col = data.groupby(['partner', 'Class']).size().unstack()\n",
    "gender_col = gender_col.T / gender_col.T.sum()  \n",
    "fig = gender_col.T.plot(kind='bar', rot=0, color=['#ADD8E6', '#ABABAB'], figsize=(8,5))\n",
    "\n",
    "for patch in fig.patches:\n",
    "    width, height = patch.get_width(), patch.get_height()\n",
    "    x, y = patch.get_xy()\n",
    "    fig.annotate('{}%'.format(round(height * 100)), (x+0.3*width, y+0.7*height), color='Black', weight='bold')"
   ]
  },
  {
   "cell_type": "markdown",
   "id": "fc210c05",
   "metadata": {},
   "source": [
    "# Predictor Variable (Churn)"
   ]
  },
  {
   "cell_type": "markdown",
   "id": "ec05ca1a",
   "metadata": {},
   "source": [
    "#### Class variable Distribution"
   ]
  },
  {
   "cell_type": "code",
   "execution_count": 31,
   "id": "7e162158",
   "metadata": {},
   "outputs": [
    {
     "data": {
      "text/html": [
       "<div>\n",
       "<style scoped>\n",
       "    .dataframe tbody tr th:only-of-type {\n",
       "        vertical-align: middle;\n",
       "    }\n",
       "\n",
       "    .dataframe tbody tr th {\n",
       "        vertical-align: top;\n",
       "    }\n",
       "\n",
       "    .dataframe thead th {\n",
       "        text-align: right;\n",
       "    }\n",
       "</style>\n",
       "<table border=\"1\" class=\"dataframe\">\n",
       "  <thead>\n",
       "    <tr style=\"text-align: right;\">\n",
       "      <th></th>\n",
       "      <th>customer_id</th>\n",
       "      <th>gender</th>\n",
       "      <th>location</th>\n",
       "      <th>partner</th>\n",
       "      <th>dependents</th>\n",
       "      <th>senior</th>\n",
       "      <th>Tenure</th>\n",
       "      <th>package</th>\n",
       "      <th>survey</th>\n",
       "      <th>Class</th>\n",
       "      <th>updated_monthly_cost</th>\n",
       "    </tr>\n",
       "  </thead>\n",
       "  <tbody>\n",
       "    <tr>\n",
       "      <th>0</th>\n",
       "      <td>G1606</td>\n",
       "      <td>0</td>\n",
       "      <td>Lancashire</td>\n",
       "      <td>0</td>\n",
       "      <td>1.0</td>\n",
       "      <td>0</td>\n",
       "      <td>20.0</td>\n",
       "      <td>2</td>\n",
       "      <td>0</td>\n",
       "      <td>Churn=No</td>\n",
       "      <td>20.40</td>\n",
       "    </tr>\n",
       "    <tr>\n",
       "      <th>1</th>\n",
       "      <td>F8889</td>\n",
       "      <td>0</td>\n",
       "      <td>Essex</td>\n",
       "      <td>0</td>\n",
       "      <td>1.0</td>\n",
       "      <td>0</td>\n",
       "      <td>4.0</td>\n",
       "      <td>1</td>\n",
       "      <td>5</td>\n",
       "      <td>Churn=No</td>\n",
       "      <td>23.92</td>\n",
       "    </tr>\n",
       "    <tr>\n",
       "      <th>2</th>\n",
       "      <td>C5068</td>\n",
       "      <td>0</td>\n",
       "      <td>Essex</td>\n",
       "      <td>0</td>\n",
       "      <td>0.0</td>\n",
       "      <td>1</td>\n",
       "      <td>9.0</td>\n",
       "      <td>2</td>\n",
       "      <td>0</td>\n",
       "      <td>Churn=No</td>\n",
       "      <td>27.88</td>\n",
       "    </tr>\n",
       "    <tr>\n",
       "      <th>3</th>\n",
       "      <td>G9820</td>\n",
       "      <td>1</td>\n",
       "      <td>West Yorkshire</td>\n",
       "      <td>1</td>\n",
       "      <td>1.0</td>\n",
       "      <td>1</td>\n",
       "      <td>9.0</td>\n",
       "      <td>4</td>\n",
       "      <td>9</td>\n",
       "      <td>Churn=No</td>\n",
       "      <td>37.72</td>\n",
       "    </tr>\n",
       "    <tr>\n",
       "      <th>4</th>\n",
       "      <td>H7261</td>\n",
       "      <td>1</td>\n",
       "      <td>Greater Manchester</td>\n",
       "      <td>0</td>\n",
       "      <td>1.0</td>\n",
       "      <td>0</td>\n",
       "      <td>6.0</td>\n",
       "      <td>2</td>\n",
       "      <td>5</td>\n",
       "      <td>Churn=No</td>\n",
       "      <td>29.92</td>\n",
       "    </tr>\n",
       "  </tbody>\n",
       "</table>\n",
       "</div>"
      ],
      "text/plain": [
       "  customer_id  gender            location  partner  dependents  senior  \\\n",
       "0       G1606       0          Lancashire        0         1.0       0   \n",
       "1       F8889       0               Essex        0         1.0       0   \n",
       "2       C5068       0               Essex        0         0.0       1   \n",
       "3       G9820       1      West Yorkshire        1         1.0       1   \n",
       "4       H7261       1  Greater Manchester        0         1.0       0   \n",
       "\n",
       "   Tenure  package  survey     Class  updated_monthly_cost  \n",
       "0    20.0        2       0  Churn=No                 20.40  \n",
       "1     4.0        1       5  Churn=No                 23.92  \n",
       "2     9.0        2       0  Churn=No                 27.88  \n",
       "3     9.0        4       9  Churn=No                 37.72  \n",
       "4     6.0        2       5  Churn=No                 29.92  "
      ]
     },
     "execution_count": 31,
     "metadata": {},
     "output_type": "execute_result"
    }
   ],
   "source": [
    "data.head()"
   ]
  },
  {
   "cell_type": "code",
   "execution_count": 32,
   "id": "fbf52402",
   "metadata": {},
   "outputs": [],
   "source": [
    "data['Class'] = np.where(data['Class'] =='Churn=No',0,1 )"
   ]
  },
  {
   "cell_type": "code",
   "execution_count": 33,
   "id": "ba1b5278",
   "metadata": {},
   "outputs": [
    {
     "data": {
      "text/plain": [
       "0    4697\n",
       "1    1895\n",
       "Name: Class, dtype: int64"
      ]
     },
     "execution_count": 33,
     "metadata": {},
     "output_type": "execute_result"
    }
   ],
   "source": [
    "data['Class'].value_counts()"
   ]
  },
  {
   "cell_type": "markdown",
   "id": "7a5459e2",
   "metadata": {},
   "source": [
    "#### Tenure vs Churn"
   ]
  },
  {
   "cell_type": "code",
   "execution_count": 44,
   "id": "1284817f",
   "metadata": {},
   "outputs": [
    {
     "data": {
      "text/plain": [
       "<AxesSubplot:xlabel='Class', ylabel='Tenure'>"
      ]
     },
     "execution_count": 44,
     "metadata": {},
     "output_type": "execute_result"
    },
    {
     "data": {
      "image/png": "[encoded data removed]",
      "text/plain": [
       "<Figure size 432x288 with 1 Axes>"
      ]
     },
     "metadata": {
      "needs_background": "light"
     },
     "output_type": "display_data"
    }
   ],
   "source": [
    "sns.boxplot(x = data['Class'], y = data.Tenure)"
   ]
  },
  {
   "cell_type": "markdown",
   "id": "aa7b7215",
   "metadata": {},
   "source": [
    "#### Location vs Churn"
   ]
  },
  {
   "cell_type": "code",
   "execution_count": 36,
   "id": "d93d5f09",
   "metadata": {},
   "outputs": [
    {
     "data": {
      "text/html": [
       "<div>\n",
       "<style scoped>\n",
       "    .dataframe tbody tr th:only-of-type {\n",
       "        vertical-align: middle;\n",
       "    }\n",
       "\n",
       "    .dataframe tbody tr th {\n",
       "        vertical-align: top;\n",
       "    }\n",
       "\n",
       "    .dataframe thead th {\n",
       "        text-align: right;\n",
       "    }\n",
       "</style>\n",
       "<table border=\"1\" class=\"dataframe\">\n",
       "  <thead>\n",
       "    <tr style=\"text-align: right;\">\n",
       "      <th></th>\n",
       "      <th>customer_id</th>\n",
       "      <th>gender</th>\n",
       "      <th>location</th>\n",
       "      <th>partner</th>\n",
       "      <th>dependents</th>\n",
       "      <th>senior</th>\n",
       "      <th>Tenure</th>\n",
       "      <th>package</th>\n",
       "      <th>survey</th>\n",
       "      <th>Class</th>\n",
       "      <th>updated_monthly_cost</th>\n",
       "    </tr>\n",
       "  </thead>\n",
       "  <tbody>\n",
       "    <tr>\n",
       "      <th>0</th>\n",
       "      <td>G1606</td>\n",
       "      <td>0</td>\n",
       "      <td>Lancashire</td>\n",
       "      <td>0</td>\n",
       "      <td>1.0</td>\n",
       "      <td>0</td>\n",
       "      <td>20.0</td>\n",
       "      <td>2</td>\n",
       "      <td>0</td>\n",
       "      <td>0</td>\n",
       "      <td>20.40</td>\n",
       "    </tr>\n",
       "    <tr>\n",
       "      <th>1</th>\n",
       "      <td>F8889</td>\n",
       "      <td>0</td>\n",
       "      <td>Essex</td>\n",
       "      <td>0</td>\n",
       "      <td>1.0</td>\n",
       "      <td>0</td>\n",
       "      <td>4.0</td>\n",
       "      <td>1</td>\n",
       "      <td>5</td>\n",
       "      <td>0</td>\n",
       "      <td>23.92</td>\n",
       "    </tr>\n",
       "    <tr>\n",
       "      <th>2</th>\n",
       "      <td>C5068</td>\n",
       "      <td>0</td>\n",
       "      <td>Essex</td>\n",
       "      <td>0</td>\n",
       "      <td>0.0</td>\n",
       "      <td>1</td>\n",
       "      <td>9.0</td>\n",
       "      <td>2</td>\n",
       "      <td>0</td>\n",
       "      <td>0</td>\n",
       "      <td>27.88</td>\n",
       "    </tr>\n",
       "    <tr>\n",
       "      <th>3</th>\n",
       "      <td>G9820</td>\n",
       "      <td>1</td>\n",
       "      <td>West Yorkshire</td>\n",
       "      <td>1</td>\n",
       "      <td>1.0</td>\n",
       "      <td>1</td>\n",
       "      <td>9.0</td>\n",
       "      <td>4</td>\n",
       "      <td>9</td>\n",
       "      <td>0</td>\n",
       "      <td>37.72</td>\n",
       "    </tr>\n",
       "    <tr>\n",
       "      <th>4</th>\n",
       "      <td>H7261</td>\n",
       "      <td>1</td>\n",
       "      <td>Greater Manchester</td>\n",
       "      <td>0</td>\n",
       "      <td>1.0</td>\n",
       "      <td>0</td>\n",
       "      <td>6.0</td>\n",
       "      <td>2</td>\n",
       "      <td>5</td>\n",
       "      <td>0</td>\n",
       "      <td>29.92</td>\n",
       "    </tr>\n",
       "  </tbody>\n",
       "</table>\n",
       "</div>"
      ],
      "text/plain": [
       "  customer_id  gender            location  partner  dependents  senior  \\\n",
       "0       G1606       0          Lancashire        0         1.0       0   \n",
       "1       F8889       0               Essex        0         1.0       0   \n",
       "2       C5068       0               Essex        0         0.0       1   \n",
       "3       G9820       1      West Yorkshire        1         1.0       1   \n",
       "4       H7261       1  Greater Manchester        0         1.0       0   \n",
       "\n",
       "   Tenure  package  survey  Class  updated_monthly_cost  \n",
       "0    20.0        2       0      0                 20.40  \n",
       "1     4.0        1       5      0                 23.92  \n",
       "2     9.0        2       0      0                 27.88  \n",
       "3     9.0        4       9      0                 37.72  \n",
       "4     6.0        2       5      0                 29.92  "
      ]
     },
     "execution_count": 36,
     "metadata": {},
     "output_type": "execute_result"
    }
   ],
   "source": [
    "data.head()"
   ]
  },
  {
   "cell_type": "code",
   "execution_count": 45,
   "id": "f561c4c8",
   "metadata": {},
   "outputs": [
    {
     "data": {
      "text/plain": [
       "<AxesSubplot:title={'center':'Distribution of Location'}, xlabel='location', ylabel='counts'>"
      ]
     },
     "execution_count": 45,
     "metadata": {},
     "output_type": "execute_result"
    },
    {
     "data": {
      "text/plain": [
       "<Figure size 720x432 with 0 Axes>"
      ]
     },
     "metadata": {},
     "output_type": "display_data"
    },
    {
     "data": {
      "image/png": "[encoded data removed]",
      "text/plain": [
       "<Figure size 1080x360 with 1 Axes>"
      ]
     },
     "metadata": {
      "needs_background": "light"
     },
     "output_type": "display_data"
    }
   ],
   "source": [
    "loc = data.groupby(['location','Class'])[\"customer_id\"].count().reset_index(name=\"count\")\n",
    "loc = loc.pivot_table(index=[\"location\"], columns='Class',values=[\"count\"], aggfunc='first')\n",
    "loc = loc.sort_index(axis=1, level=1)\n",
    "loc.columns = loc.columns.map('{0[0]}_{0[1]}'.format) \n",
    "loc = loc.reset_index(level=0)\n",
    "plt.figure(figsize=(10, 6))\n",
    "loc = loc.set_index('location')\n",
    "loc.plot(kind = 'bar',title=\"Distribution of Location\",xlabel='location',ylabel=\"counts\",figsize = (15,5))\n"
   ]
  },
  {
   "cell_type": "markdown",
   "id": "97ae4497",
   "metadata": {},
   "source": [
    "#### Seniority Level vs Churn"
   ]
  },
  {
   "cell_type": "code",
   "execution_count": 38,
   "id": "1991a6be",
   "metadata": {},
   "outputs": [
    {
     "data": {
      "text/html": [
       "<div>\n",
       "<style scoped>\n",
       "    .dataframe tbody tr th:only-of-type {\n",
       "        vertical-align: middle;\n",
       "    }\n",
       "\n",
       "    .dataframe tbody tr th {\n",
       "        vertical-align: top;\n",
       "    }\n",
       "\n",
       "    .dataframe thead th {\n",
       "        text-align: right;\n",
       "    }\n",
       "</style>\n",
       "<table border=\"1\" class=\"dataframe\">\n",
       "  <thead>\n",
       "    <tr style=\"text-align: right;\">\n",
       "      <th></th>\n",
       "      <th>customer_id</th>\n",
       "      <th>gender</th>\n",
       "      <th>location</th>\n",
       "      <th>partner</th>\n",
       "      <th>dependents</th>\n",
       "      <th>senior</th>\n",
       "      <th>Tenure</th>\n",
       "      <th>package</th>\n",
       "      <th>survey</th>\n",
       "      <th>Class</th>\n",
       "      <th>updated_monthly_cost</th>\n",
       "    </tr>\n",
       "  </thead>\n",
       "  <tbody>\n",
       "    <tr>\n",
       "      <th>0</th>\n",
       "      <td>G1606</td>\n",
       "      <td>0</td>\n",
       "      <td>Lancashire</td>\n",
       "      <td>0</td>\n",
       "      <td>1.0</td>\n",
       "      <td>0</td>\n",
       "      <td>20.0</td>\n",
       "      <td>2</td>\n",
       "      <td>0</td>\n",
       "      <td>0</td>\n",
       "      <td>20.40</td>\n",
       "    </tr>\n",
       "    <tr>\n",
       "      <th>1</th>\n",
       "      <td>F8889</td>\n",
       "      <td>0</td>\n",
       "      <td>Essex</td>\n",
       "      <td>0</td>\n",
       "      <td>1.0</td>\n",
       "      <td>0</td>\n",
       "      <td>4.0</td>\n",
       "      <td>1</td>\n",
       "      <td>5</td>\n",
       "      <td>0</td>\n",
       "      <td>23.92</td>\n",
       "    </tr>\n",
       "    <tr>\n",
       "      <th>2</th>\n",
       "      <td>C5068</td>\n",
       "      <td>0</td>\n",
       "      <td>Essex</td>\n",
       "      <td>0</td>\n",
       "      <td>0.0</td>\n",
       "      <td>1</td>\n",
       "      <td>9.0</td>\n",
       "      <td>2</td>\n",
       "      <td>0</td>\n",
       "      <td>0</td>\n",
       "      <td>27.88</td>\n",
       "    </tr>\n",
       "    <tr>\n",
       "      <th>3</th>\n",
       "      <td>G9820</td>\n",
       "      <td>1</td>\n",
       "      <td>West Yorkshire</td>\n",
       "      <td>1</td>\n",
       "      <td>1.0</td>\n",
       "      <td>1</td>\n",
       "      <td>9.0</td>\n",
       "      <td>4</td>\n",
       "      <td>9</td>\n",
       "      <td>0</td>\n",
       "      <td>37.72</td>\n",
       "    </tr>\n",
       "    <tr>\n",
       "      <th>4</th>\n",
       "      <td>H7261</td>\n",
       "      <td>1</td>\n",
       "      <td>Greater Manchester</td>\n",
       "      <td>0</td>\n",
       "      <td>1.0</td>\n",
       "      <td>0</td>\n",
       "      <td>6.0</td>\n",
       "      <td>2</td>\n",
       "      <td>5</td>\n",
       "      <td>0</td>\n",
       "      <td>29.92</td>\n",
       "    </tr>\n",
       "  </tbody>\n",
       "</table>\n",
       "</div>"
      ],
      "text/plain": [
       "  customer_id  gender            location  partner  dependents  senior  \\\n",
       "0       G1606       0          Lancashire        0         1.0       0   \n",
       "1       F8889       0               Essex        0         1.0       0   \n",
       "2       C5068       0               Essex        0         0.0       1   \n",
       "3       G9820       1      West Yorkshire        1         1.0       1   \n",
       "4       H7261       1  Greater Manchester        0         1.0       0   \n",
       "\n",
       "   Tenure  package  survey  Class  updated_monthly_cost  \n",
       "0    20.0        2       0      0                 20.40  \n",
       "1     4.0        1       5      0                 23.92  \n",
       "2     9.0        2       0      0                 27.88  \n",
       "3     9.0        4       9      0                 37.72  \n",
       "4     6.0        2       5      0                 29.92  "
      ]
     },
     "execution_count": 38,
     "metadata": {},
     "output_type": "execute_result"
    }
   ],
   "source": [
    "data.head()"
   ]
  },
  {
   "cell_type": "code",
   "execution_count": 39,
   "id": "1ac169db",
   "metadata": {},
   "outputs": [
    {
     "data": {
      "text/plain": [
       "Index(['customer_id', 'gender', 'location', 'partner', 'dependents', 'senior',\n",
       "       'Tenure', 'package', 'survey', 'Class', 'updated_monthly_cost'],\n",
       "      dtype='object')"
      ]
     },
     "execution_count": 39,
     "metadata": {},
     "output_type": "execute_result"
    }
   ],
   "source": [
    "data.columns"
   ]
  },
  {
   "cell_type": "code",
   "execution_count": 40,
   "id": "77055af2",
   "metadata": {},
   "outputs": [],
   "source": [
    "data = data.drop('customer_id',axis = 1)"
   ]
  },
  {
   "cell_type": "markdown",
   "id": "2e346ae5",
   "metadata": {},
   "source": [
    "#### Building Correlation plot"
   ]
  },
  {
   "cell_type": "code",
   "execution_count": 41,
   "id": "cd32d73c",
   "metadata": {},
   "outputs": [
    {
     "data": {
      "image/png": "[encoded data removed]",
      "text/plain": [
       "<Figure size 1800x720 with 2 Axes>"
      ]
     },
     "metadata": {
      "needs_background": "light"
     },
     "output_type": "display_data"
    }
   ],
   "source": [
    "plt.figure(figsize=(25, 10))\n",
    "\n",
    "corr = data.apply(lambda x: pd.factorize(x)[0]).corr()\n",
    "\n",
    "mask = np.triu(np.ones_like(corr, dtype=bool))\n",
    "\n",
    "ax = sns.heatmap(corr, xticklabels=corr.columns, yticklabels=corr.columns, annot=True, linewidths=.2)"
   ]
  },
  {
   "cell_type": "markdown",
   "id": "80dc91c7",
   "metadata": {},
   "source": [
    "# Onehot Encoding"
   ]
  },
  {
   "cell_type": "code",
   "execution_count": 42,
   "id": "94cf537b",
   "metadata": {},
   "outputs": [],
   "source": [
    "location_dummies = pd.get_dummies(data.location)\n",
    "data1 = pd.concat([data, location_dummies], axis=1)\n",
    "data1 = data1.drop(['location'],axis = 1)\n",
    "data1[\"Class\"] = data1[\"Class\"].replace({'Churn=No':0, 'Churn=Yes': 1})\n",
    "\n",
    "x = data1[[i for i in data1.columns if i not in \"Class\"]]\n",
    "Y = data1[['Class']]"
   ]
  },
  {
   "cell_type": "code",
   "execution_count": 43,
   "id": "ffeb58a3",
   "metadata": {},
   "outputs": [
    {
     "data": {
      "text/html": [
       "<div>\n",
       "<style scoped>\n",
       "    .dataframe tbody tr th:only-of-type {\n",
       "        vertical-align: middle;\n",
       "    }\n",
       "\n",
       "    .dataframe tbody tr th {\n",
       "        vertical-align: top;\n",
       "    }\n",
       "\n",
       "    .dataframe thead th {\n",
       "        text-align: right;\n",
       "    }\n",
       "</style>\n",
       "<table border=\"1\" class=\"dataframe\">\n",
       "  <thead>\n",
       "    <tr style=\"text-align: right;\">\n",
       "      <th></th>\n",
       "      <th>gender</th>\n",
       "      <th>partner</th>\n",
       "      <th>dependents</th>\n",
       "      <th>senior</th>\n",
       "      <th>Tenure</th>\n",
       "      <th>package</th>\n",
       "      <th>survey</th>\n",
       "      <th>Class</th>\n",
       "      <th>updated_monthly_cost</th>\n",
       "      <th>Devon</th>\n",
       "      <th>...</th>\n",
       "      <th>Lancashire</th>\n",
       "      <th>Merseyside</th>\n",
       "      <th>North Yorkshire</th>\n",
       "      <th>Nottinghamshire</th>\n",
       "      <th>South Yorkshire</th>\n",
       "      <th>Staffordshire</th>\n",
       "      <th>Surrey</th>\n",
       "      <th>Tyne and Wear</th>\n",
       "      <th>West Midlands</th>\n",
       "      <th>West Yorkshire</th>\n",
       "    </tr>\n",
       "  </thead>\n",
       "  <tbody>\n",
       "    <tr>\n",
       "      <th>0</th>\n",
       "      <td>0</td>\n",
       "      <td>0</td>\n",
       "      <td>1.0</td>\n",
       "      <td>0</td>\n",
       "      <td>20.0</td>\n",
       "      <td>2</td>\n",
       "      <td>0</td>\n",
       "      <td>0</td>\n",
       "      <td>20.40</td>\n",
       "      <td>0</td>\n",
       "      <td>...</td>\n",
       "      <td>1</td>\n",
       "      <td>0</td>\n",
       "      <td>0</td>\n",
       "      <td>0</td>\n",
       "      <td>0</td>\n",
       "      <td>0</td>\n",
       "      <td>0</td>\n",
       "      <td>0</td>\n",
       "      <td>0</td>\n",
       "      <td>0</td>\n",
       "    </tr>\n",
       "    <tr>\n",
       "      <th>1</th>\n",
       "      <td>0</td>\n",
       "      <td>0</td>\n",
       "      <td>1.0</td>\n",
       "      <td>0</td>\n",
       "      <td>4.0</td>\n",
       "      <td>1</td>\n",
       "      <td>5</td>\n",
       "      <td>0</td>\n",
       "      <td>23.92</td>\n",
       "      <td>0</td>\n",
       "      <td>...</td>\n",
       "      <td>0</td>\n",
       "      <td>0</td>\n",
       "      <td>0</td>\n",
       "      <td>0</td>\n",
       "      <td>0</td>\n",
       "      <td>0</td>\n",
       "      <td>0</td>\n",
       "      <td>0</td>\n",
       "      <td>0</td>\n",
       "      <td>0</td>\n",
       "    </tr>\n",
       "    <tr>\n",
       "      <th>2</th>\n",
       "      <td>0</td>\n",
       "      <td>0</td>\n",
       "      <td>0.0</td>\n",
       "      <td>1</td>\n",
       "      <td>9.0</td>\n",
       "      <td>2</td>\n",
       "      <td>0</td>\n",
       "      <td>0</td>\n",
       "      <td>27.88</td>\n",
       "      <td>0</td>\n",
       "      <td>...</td>\n",
       "      <td>0</td>\n",
       "      <td>0</td>\n",
       "      <td>0</td>\n",
       "      <td>0</td>\n",
       "      <td>0</td>\n",
       "      <td>0</td>\n",
       "      <td>0</td>\n",
       "      <td>0</td>\n",
       "      <td>0</td>\n",
       "      <td>0</td>\n",
       "    </tr>\n",
       "    <tr>\n",
       "      <th>3</th>\n",
       "      <td>1</td>\n",
       "      <td>1</td>\n",
       "      <td>1.0</td>\n",
       "      <td>1</td>\n",
       "      <td>9.0</td>\n",
       "      <td>4</td>\n",
       "      <td>9</td>\n",
       "      <td>0</td>\n",
       "      <td>37.72</td>\n",
       "      <td>0</td>\n",
       "      <td>...</td>\n",
       "      <td>0</td>\n",
       "      <td>0</td>\n",
       "      <td>0</td>\n",
       "      <td>0</td>\n",
       "      <td>0</td>\n",
       "      <td>0</td>\n",
       "      <td>0</td>\n",
       "      <td>0</td>\n",
       "      <td>0</td>\n",
       "      <td>1</td>\n",
       "    </tr>\n",
       "    <tr>\n",
       "      <th>4</th>\n",
       "      <td>1</td>\n",
       "      <td>0</td>\n",
       "      <td>1.0</td>\n",
       "      <td>0</td>\n",
       "      <td>6.0</td>\n",
       "      <td>2</td>\n",
       "      <td>5</td>\n",
       "      <td>0</td>\n",
       "      <td>29.92</td>\n",
       "      <td>0</td>\n",
       "      <td>...</td>\n",
       "      <td>0</td>\n",
       "      <td>0</td>\n",
       "      <td>0</td>\n",
       "      <td>0</td>\n",
       "      <td>0</td>\n",
       "      <td>0</td>\n",
       "      <td>0</td>\n",
       "      <td>0</td>\n",
       "      <td>0</td>\n",
       "      <td>0</td>\n",
       "    </tr>\n",
       "  </tbody>\n",
       "</table>\n",
       "<p>5 rows × 26 columns</p>\n",
       "</div>"
      ],
      "text/plain": [
       "   gender  partner  dependents  senior  Tenure  package  survey  Class  \\\n",
       "0       0        0         1.0       0    20.0        2       0      0   \n",
       "1       0        0         1.0       0     4.0        1       5      0   \n",
       "2       0        0         0.0       1     9.0        2       0      0   \n",
       "3       1        1         1.0       1     9.0        4       9      0   \n",
       "4       1        0         1.0       0     6.0        2       5      0   \n",
       "\n",
       "   updated_monthly_cost  Devon  ...  Lancashire  Merseyside  North Yorkshire  \\\n",
       "0                 20.40      0  ...           1           0                0   \n",
       "1                 23.92      0  ...           0           0                0   \n",
       "2                 27.88      0  ...           0           0                0   \n",
       "3                 37.72      0  ...           0           0                0   \n",
       "4                 29.92      0  ...           0           0                0   \n",
       "\n",
       "   Nottinghamshire  South Yorkshire  Staffordshire  Surrey  Tyne and Wear  \\\n",
       "0                0                0              0       0              0   \n",
       "1                0                0              0       0              0   \n",
       "2                0                0              0       0              0   \n",
       "3                0                0              0       0              0   \n",
       "4                0                0              0       0              0   \n",
       "\n",
       "   West Midlands  West Yorkshire  \n",
       "0              0               0  \n",
       "1              0               0  \n",
       "2              0               0  \n",
       "3              0               1  \n",
       "4              0               0  \n",
       "\n",
       "[5 rows x 26 columns]"
      ]
     },
     "execution_count": 43,
     "metadata": {},
     "output_type": "execute_result"
    }
   ],
   "source": [
    "data1.head()"
   ]
  },
  {
   "cell_type": "code",
   "execution_count": 44,
   "id": "0b4d5bb8",
   "metadata": {},
   "outputs": [
    {
     "data": {
      "text/plain": [
       "0    4697\n",
       "1    1895\n",
       "Name: Class, dtype: int64"
      ]
     },
     "execution_count": 44,
     "metadata": {},
     "output_type": "execute_result"
    }
   ],
   "source": [
    "data1['Class'].value_counts()"
   ]
  },
  {
   "cell_type": "code",
   "execution_count": 45,
   "id": "4bb2ea3a",
   "metadata": {},
   "outputs": [
    {
     "data": {
      "text/plain": [
       "0    4697\n",
       "1    4697\n",
       "Name: Class, dtype: int64"
      ]
     },
     "execution_count": 45,
     "metadata": {},
     "output_type": "execute_result"
    }
   ],
   "source": [
    "X_res, y_res = RandomOverSampler().fit_resample(x, Y)\n",
    "data1 = pd.concat([X_res, y_res],axis=1)\n",
    "data1.shape\n",
    "data1['Class'].value_counts()"
   ]
  },
  {
   "cell_type": "markdown",
   "id": "293da899",
   "metadata": {},
   "source": [
    "# Standardising the Data"
   ]
  },
  {
   "cell_type": "code",
   "execution_count": 46,
   "id": "cd4540ae",
   "metadata": {},
   "outputs": [
    {
     "data": {
      "text/html": [
       "<div>\n",
       "<style scoped>\n",
       "    .dataframe tbody tr th:only-of-type {\n",
       "        vertical-align: middle;\n",
       "    }\n",
       "\n",
       "    .dataframe tbody tr th {\n",
       "        vertical-align: top;\n",
       "    }\n",
       "\n",
       "    .dataframe thead th {\n",
       "        text-align: right;\n",
       "    }\n",
       "</style>\n",
       "<table border=\"1\" class=\"dataframe\">\n",
       "  <thead>\n",
       "    <tr style=\"text-align: right;\">\n",
       "      <th></th>\n",
       "      <th>gender</th>\n",
       "      <th>partner</th>\n",
       "      <th>dependents</th>\n",
       "      <th>senior</th>\n",
       "      <th>Tenure</th>\n",
       "      <th>package</th>\n",
       "      <th>survey</th>\n",
       "      <th>updated_monthly_cost</th>\n",
       "      <th>Devon</th>\n",
       "      <th>Essex</th>\n",
       "      <th>...</th>\n",
       "      <th>Lancashire</th>\n",
       "      <th>Merseyside</th>\n",
       "      <th>North Yorkshire</th>\n",
       "      <th>Nottinghamshire</th>\n",
       "      <th>South Yorkshire</th>\n",
       "      <th>Staffordshire</th>\n",
       "      <th>Surrey</th>\n",
       "      <th>Tyne and Wear</th>\n",
       "      <th>West Midlands</th>\n",
       "      <th>West Yorkshire</th>\n",
       "    </tr>\n",
       "  </thead>\n",
       "  <tbody>\n",
       "    <tr>\n",
       "      <th>0</th>\n",
       "      <td>0.0</td>\n",
       "      <td>0.0</td>\n",
       "      <td>1.0</td>\n",
       "      <td>0.0</td>\n",
       "      <td>0.666667</td>\n",
       "      <td>0.333333</td>\n",
       "      <td>0.0</td>\n",
       "      <td>0.224242</td>\n",
       "      <td>0.0</td>\n",
       "      <td>0.0</td>\n",
       "      <td>...</td>\n",
       "      <td>1.0</td>\n",
       "      <td>0.0</td>\n",
       "      <td>0.0</td>\n",
       "      <td>0.0</td>\n",
       "      <td>0.0</td>\n",
       "      <td>0.0</td>\n",
       "      <td>0.0</td>\n",
       "      <td>0.0</td>\n",
       "      <td>0.0</td>\n",
       "      <td>0.0</td>\n",
       "    </tr>\n",
       "    <tr>\n",
       "      <th>1</th>\n",
       "      <td>0.0</td>\n",
       "      <td>0.0</td>\n",
       "      <td>1.0</td>\n",
       "      <td>0.0</td>\n",
       "      <td>0.133333</td>\n",
       "      <td>0.000000</td>\n",
       "      <td>0.5</td>\n",
       "      <td>0.330909</td>\n",
       "      <td>0.0</td>\n",
       "      <td>1.0</td>\n",
       "      <td>...</td>\n",
       "      <td>0.0</td>\n",
       "      <td>0.0</td>\n",
       "      <td>0.0</td>\n",
       "      <td>0.0</td>\n",
       "      <td>0.0</td>\n",
       "      <td>0.0</td>\n",
       "      <td>0.0</td>\n",
       "      <td>0.0</td>\n",
       "      <td>0.0</td>\n",
       "      <td>0.0</td>\n",
       "    </tr>\n",
       "    <tr>\n",
       "      <th>2</th>\n",
       "      <td>0.0</td>\n",
       "      <td>0.0</td>\n",
       "      <td>0.0</td>\n",
       "      <td>1.0</td>\n",
       "      <td>0.300000</td>\n",
       "      <td>0.333333</td>\n",
       "      <td>0.0</td>\n",
       "      <td>0.450909</td>\n",
       "      <td>0.0</td>\n",
       "      <td>1.0</td>\n",
       "      <td>...</td>\n",
       "      <td>0.0</td>\n",
       "      <td>0.0</td>\n",
       "      <td>0.0</td>\n",
       "      <td>0.0</td>\n",
       "      <td>0.0</td>\n",
       "      <td>0.0</td>\n",
       "      <td>0.0</td>\n",
       "      <td>0.0</td>\n",
       "      <td>0.0</td>\n",
       "      <td>0.0</td>\n",
       "    </tr>\n",
       "    <tr>\n",
       "      <th>3</th>\n",
       "      <td>1.0</td>\n",
       "      <td>1.0</td>\n",
       "      <td>1.0</td>\n",
       "      <td>1.0</td>\n",
       "      <td>0.300000</td>\n",
       "      <td>1.000000</td>\n",
       "      <td>0.9</td>\n",
       "      <td>0.749091</td>\n",
       "      <td>0.0</td>\n",
       "      <td>0.0</td>\n",
       "      <td>...</td>\n",
       "      <td>0.0</td>\n",
       "      <td>0.0</td>\n",
       "      <td>0.0</td>\n",
       "      <td>0.0</td>\n",
       "      <td>0.0</td>\n",
       "      <td>0.0</td>\n",
       "      <td>0.0</td>\n",
       "      <td>0.0</td>\n",
       "      <td>0.0</td>\n",
       "      <td>1.0</td>\n",
       "    </tr>\n",
       "    <tr>\n",
       "      <th>4</th>\n",
       "      <td>1.0</td>\n",
       "      <td>0.0</td>\n",
       "      <td>1.0</td>\n",
       "      <td>0.0</td>\n",
       "      <td>0.200000</td>\n",
       "      <td>0.333333</td>\n",
       "      <td>0.5</td>\n",
       "      <td>0.512727</td>\n",
       "      <td>0.0</td>\n",
       "      <td>0.0</td>\n",
       "      <td>...</td>\n",
       "      <td>0.0</td>\n",
       "      <td>0.0</td>\n",
       "      <td>0.0</td>\n",
       "      <td>0.0</td>\n",
       "      <td>0.0</td>\n",
       "      <td>0.0</td>\n",
       "      <td>0.0</td>\n",
       "      <td>0.0</td>\n",
       "      <td>0.0</td>\n",
       "      <td>0.0</td>\n",
       "    </tr>\n",
       "  </tbody>\n",
       "</table>\n",
       "<p>5 rows × 25 columns</p>\n",
       "</div>"
      ],
      "text/plain": [
       "   gender  partner  dependents  senior    Tenure   package  survey  \\\n",
       "0     0.0      0.0         1.0     0.0  0.666667  0.333333     0.0   \n",
       "1     0.0      0.0         1.0     0.0  0.133333  0.000000     0.5   \n",
       "2     0.0      0.0         0.0     1.0  0.300000  0.333333     0.0   \n",
       "3     1.0      1.0         1.0     1.0  0.300000  1.000000     0.9   \n",
       "4     1.0      0.0         1.0     0.0  0.200000  0.333333     0.5   \n",
       "\n",
       "   updated_monthly_cost  Devon  Essex  ...  Lancashire  Merseyside  \\\n",
       "0              0.224242    0.0    0.0  ...         1.0         0.0   \n",
       "1              0.330909    0.0    1.0  ...         0.0         0.0   \n",
       "2              0.450909    0.0    1.0  ...         0.0         0.0   \n",
       "3              0.749091    0.0    0.0  ...         0.0         0.0   \n",
       "4              0.512727    0.0    0.0  ...         0.0         0.0   \n",
       "\n",
       "   North Yorkshire  Nottinghamshire  South Yorkshire  Staffordshire  Surrey  \\\n",
       "0              0.0              0.0              0.0            0.0     0.0   \n",
       "1              0.0              0.0              0.0            0.0     0.0   \n",
       "2              0.0              0.0              0.0            0.0     0.0   \n",
       "3              0.0              0.0              0.0            0.0     0.0   \n",
       "4              0.0              0.0              0.0            0.0     0.0   \n",
       "\n",
       "   Tyne and Wear  West Midlands  West Yorkshire  \n",
       "0            0.0            0.0             0.0  \n",
       "1            0.0            0.0             0.0  \n",
       "2            0.0            0.0             0.0  \n",
       "3            0.0            0.0             1.0  \n",
       "4            0.0            0.0             0.0  \n",
       "\n",
       "[5 rows x 25 columns]"
      ]
     },
     "execution_count": 46,
     "metadata": {},
     "output_type": "execute_result"
    }
   ],
   "source": [
    "from sklearn import preprocessing\n",
    "\n",
    "X_val = data1.drop('Class', axis=1)\n",
    "Y = data1['Class']\n",
    "\n",
    "scaler = preprocessing.MinMaxScaler()\n",
    "names = X_val.columns\n",
    "d = scaler.fit_transform(X_val)\n",
    "scaled_df = pd.DataFrame(d, columns=names)\n",
    "scaled_df.head()\n",
    "\n"
   ]
  },
  {
   "cell_type": "markdown",
   "id": "d12435e7",
   "metadata": {},
   "source": [
    "## Building Model Phase"
   ]
  },
  {
   "cell_type": "code",
   "execution_count": 47,
   "id": "8d1d50e9",
   "metadata": {},
   "outputs": [
    {
     "name": "stdout",
     "output_type": "stream",
     "text": [
      "(7045, 25)\n",
      "(7045,)\n",
      "(2349, 25)\n",
      "(2349,)\n"
     ]
    }
   ],
   "source": [
    "X_train,X_test,y_train,y_test=train_test_split(X_val,Y,test_size=0.25,random_state=351)\n",
    "print(X_train.shape)\n",
    "print(y_train.shape)\n",
    "print(X_test.shape)\n",
    "print(y_test.shape)"
   ]
  },
  {
   "cell_type": "code",
   "execution_count": 48,
   "id": "f18fbbdd",
   "metadata": {},
   "outputs": [
    {
     "name": "stdout",
     "output_type": "stream",
     "text": [
      "              precision    recall  f1-score   support\n",
      "\n",
      "           0       0.85      0.86      0.86      1182\n",
      "           1       0.86      0.85      0.85      1167\n",
      "\n",
      "    accuracy                           0.85      2349\n",
      "   macro avg       0.85      0.85      0.85      2349\n",
      "weighted avg       0.85      0.85      0.85      2349\n",
      "\n"
     ]
    },
    {
     "data": {
      "image/png": "[encoded data removed]",
      "text/plain": [
       "<Figure size 432x288 with 2 Axes>"
      ]
     },
     "metadata": {
      "needs_background": "light"
     },
     "output_type": "display_data"
    }
   ],
   "source": [
    "from sklearn.svm import SVC  \n",
    "from sklearn.metrics import plot_confusion_matrix\n",
    "svclassifier = SVC(kernel='linear', degree=8)  \n",
    "clf = svclassifier.fit(X_train, y_train) \n",
    "y_pred = clf.predict(X_test)  \n",
    "from sklearn.metrics import classification_report, confusion_matrix  \n",
    "print(classification_report(y_test,y_pred))  \n",
    "plot_confusion_matrix(clf, X_test, y_test)  \n",
    "plt.show()"
   ]
  },
  {
   "cell_type": "code",
   "execution_count": 50,
   "id": "291f134e",
   "metadata": {},
   "outputs": [
    {
     "name": "stdout",
     "output_type": "stream",
     "text": [
      "              precision    recall  f1-score   support\n",
      "\n",
      "           0       0.96      0.92      0.94      1182\n",
      "           1       0.93      0.96      0.94      1167\n",
      "\n",
      "    accuracy                           0.94      2349\n",
      "   macro avg       0.94      0.94      0.94      2349\n",
      "weighted avg       0.94      0.94      0.94      2349\n",
      "\n"
     ]
    },
    {
     "data": {
      "image/png": "[encoded data removed]",
      "text/plain": [
       "<Figure size 432x288 with 2 Axes>"
      ]
     },
     "metadata": {
      "needs_background": "light"
     },
     "output_type": "display_data"
    }
   ],
   "source": [
    "from sklearn.ensemble import RandomForestClassifier\n",
    "\n",
    "forest = RandomForestClassifier()\n",
    "\n",
    "forest_madel = forest.fit(X_train,y_train)\n",
    "y_pred=forest_madel.predict(X_test)\n",
    "\n",
    "print(classification_report(y_test,y_pred))  \n",
    "plot_confusion_matrix(forest_madel, X_test, y_test)  \n",
    "plt.show()"
   ]
  },
  {
   "cell_type": "code",
   "execution_count": 51,
   "id": "b1c689c2",
   "metadata": {},
   "outputs": [
    {
     "name": "stdout",
     "output_type": "stream",
     "text": [
      "              precision    recall  f1-score   support\n",
      "\n",
      "           0       0.85      0.86      0.86      1182\n",
      "           1       0.86      0.85      0.85      1167\n",
      "\n",
      "    accuracy                           0.86      2349\n",
      "   macro avg       0.86      0.86      0.86      2349\n",
      "weighted avg       0.86      0.86      0.86      2349\n",
      "\n"
     ]
    },
    {
     "data": {
      "image/png": "[encoded data removed]",
      "text/plain": [
       "<Figure size 432x288 with 2 Axes>"
      ]
     },
     "metadata": {
      "needs_background": "light"
     },
     "output_type": "display_data"
    }
   ],
   "source": [
    "from sklearn.linear_model import LogisticRegression\n",
    "from sklearn.metrics import ConfusionMatrixDisplay\n",
    "from sklearn.metrics import confusion_matrix\n",
    "\n",
    "Logistic_regression = LogisticRegression(random_state =42)\n",
    "logit = Logistic_regression.fit(X_train, y_train)\n",
    "\n",
    "y_pred = logit.predict(X_test)\n",
    "\n",
    "\n",
    "print(classification_report(y_test, y_pred))\n",
    "\n",
    "cm = confusion_matrix(y_test, y_pred)\n",
    "f = sns.heatmap(cm, annot=True, fmt='d')"
   ]
  },
  {
   "cell_type": "code",
   "execution_count": 52,
   "id": "e9bb0931",
   "metadata": {},
   "outputs": [
    {
     "name": "stdout",
     "output_type": "stream",
     "text": [
      "              precision    recall  f1-score   support\n",
      "\n",
      "           0       0.85      0.86      0.86      1182\n",
      "           1       0.86      0.85      0.85      1167\n",
      "\n",
      "    accuracy                           0.86      2349\n",
      "   macro avg       0.86      0.86      0.86      2349\n",
      "weighted avg       0.86      0.86      0.86      2349\n",
      "\n"
     ]
    },
    {
     "data": {
      "image/png": "[encoded data removed]",
      "text/plain": [
       "<Figure size 432x288 with 2 Axes>"
      ]
     },
     "metadata": {
      "needs_background": "light"
     },
     "output_type": "display_data"
    }
   ],
   "source": [
    "\n",
    "from sklearn.tree import DecisionTreeClassifier\n",
    "Tree_Classifier = DecisionTreeClassifier()\n",
    "\n",
    "D_tree = Tree_Classifier.fit(X_train, y_train)\n",
    "\n",
    "y_pred = logit.predict(X_test)\n",
    "\n",
    "\n",
    "print(classification_report(y_test, y_pred))\n",
    "\n",
    "cm = confusion_matrix(y_test, y_pred)\n",
    "f = sns.heatmap(cm, annot=True, fmt='d')"
   ]
  }
 ],
 "metadata": {
  "kernelspec": {
   "display_name": "Python 3 (ipykernel)",
   "language": "python",
   "name": "python3"
  },
  "language_info": {
   "codemirror_mode": {
    "name": "ipython",
    "version": 3
   },
   "file_extension": ".py",
   "mimetype": "text/x-python",
   "name": "python",
   "nbconvert_exporter": "python",
   "pygments_lexer": "ipython3",
   "version": "3.9.12"
  }
 },
 "nbformat": 4,
 "nbformat_minor": 5
}
